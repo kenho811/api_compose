{
 "cells": [
  {
   "cell_type": "markdown",
   "id": "467e6c15-b3bf-4de9-9685-48c1946ee460",
   "metadata": {},
   "source": [
    "# Welcome to Api-Compose Tutorial"
   ]
  },
  {
   "cell_type": "markdown",
   "id": "be7e97bb-ca52-4cf8-90fe-6c6b302b401c",
   "metadata": {},
   "source": [
    "# Step 1: Prerequisite - Check api-compose is properly installed"
   ]
  },
  {
   "cell_type": "code",
   "execution_count": null,
   "id": "e74721e0-9d30-4d2f-8595-ecd8f770c8bd",
   "metadata": {},
   "outputs": [],
   "source": [
    "## Check api-compose version\n",
    "\n",
    "!pip list|grep api-compose"
   ]
  },
  {
   "cell_type": "markdown",
   "id": "c711ec23-b748-4160-af53-4b8a1c20d2be",
   "metadata": {},
   "source": [
    "# Step 2: Activate ApiServerOne by clicking on the Icon"
   ]
  },
  {
   "cell_type": "code",
   "execution_count": null,
   "id": "bdf997bd-fe63-4e62-883d-514ecd60c481",
   "metadata": {},
   "outputs": [],
   "source": [
    "from IPython.display import Image\n",
    "\n",
    "Image(filename='./assets/api_server_one_icon.png')\n"
   ]
  },
  {
   "cell_type": "markdown",
   "id": "da619f44-b6fc-46e5-9a0a-3394be16d200",
   "metadata": {},
   "source": [
    "# Step 3: Explore the Api Server Swagger Docs via UI "
   ]
  },
  {
   "cell_type": "markdown",
   "id": "ca55a4c2-263d-4962-a882-4f814b59d19f",
   "metadata": {},
   "source": [
    "- If successful, it should look like below"
   ]
  },
  {
   "cell_type": "markdown",
   "id": "04912273-b7b5-4085-99f6-f6d991c5417d",
   "metadata": {},
   "source": [
    "## Users can click on each HTTP method and test the API interactively"
   ]
  },
  {
   "cell_type": "code",
   "execution_count": null,
   "id": "cb428a1c-a929-4e8f-8f14-fd0d05e8bd40",
   "metadata": {
    "scrolled": true
   },
   "outputs": [],
   "source": [
    "from IPython.display import Image\n",
    "\n",
    "Image(filename='./assets/swagger_ui.png')"
   ]
  },
  {
   "cell_type": "markdown",
   "id": "7ce97224-638c-4e36-9654-326c4abaeed5",
   "metadata": {},
   "source": [
    "# Step 4: Store Base URL of APIServerOne"
   ]
  },
  {
   "cell_type": "code",
   "execution_count": null,
   "id": "9021c5c1-339d-4268-8333-f3041361e96b",
   "metadata": {},
   "outputs": [],
   "source": [
    "import os\n",
    "\n",
    "# Allow running on Binder\n",
    "\n",
    "api_server_one_url_prefix = os.getenv('JUPYTERHUB_SERVICE_PREFIX', '/') + 'api_server_one'\n",
    "\n",
    "api_server_one_base_url = f\"http://localhost:8080{api_server_one_url_prefix}\"\n",
    "\n",
    "print(f\"{api_server_one_base_url=}\")\n",
    "\n",
    "%store api_server_one_base_url"
   ]
  },
  {
   "cell_type": "markdown",
   "id": "055de783-6435-4498-beea-ce519b4c75e1",
   "metadata": {},
   "source": [
    "# Step 5: Query the Swagger.json file"
   ]
  },
  {
   "cell_type": "code",
   "execution_count": null,
   "id": "b88cb5a2-a250-4e9b-9ded-60225a2fb1e6",
   "metadata": {
    "scrolled": true
   },
   "outputs": [],
   "source": [
    "# verify that api-server-one is running\n",
    "%store -r api_server_one_base_url\n",
    "\n",
    "!curl {api_server_one_base_url}/swagger.json| json_pp"
   ]
  },
  {
   "cell_type": "code",
   "execution_count": null,
   "id": "e7b782fa-408d-4aba-a8e5-617c09a5b611",
   "metadata": {},
   "outputs": [],
   "source": []
  }
 ],
 "metadata": {
  "kernelspec": {
   "display_name": "Python 3 (ipykernel)",
   "language": "python",
   "name": "python3"
  },
  "language_info": {
   "codemirror_mode": {
    "name": "ipython",
    "version": 3
   },
   "file_extension": ".py",
   "mimetype": "text/x-python",
   "name": "python",
   "nbconvert_exporter": "python",
   "pygments_lexer": "ipython3",
   "version": "3.11.5"
  }
 },
 "nbformat": 4,
 "nbformat_minor": 5
}
