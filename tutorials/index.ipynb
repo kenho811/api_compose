{
 "cells": [
  {
   "cell_type": "markdown",
   "id": "467e6c15-b3bf-4de9-9685-48c1946ee460",
   "metadata": {},
   "source": [
    "# Welcome to Api-Compose Tutorial"
   ]
  },
  {
   "cell_type": "markdown",
   "id": "c711ec23-b748-4160-af53-4b8a1c20d2be",
   "metadata": {},
   "source": [
    "# Setup Guide\n",
    "\n",
    "- This tutorial series require the use of sample backend servers\n",
    "\n",
    "    - api_server_one"
   ]
  },
  {
   "cell_type": "code",
   "execution_count": 1,
   "id": "b2ee39da-813f-4cf3-a7a4-a11b075e814f",
   "metadata": {},
   "outputs": [],
   "source": [
    "import subprocess\n",
    "import threading\n",
    "import time\n",
    "\n",
    "def run_script():\n",
    "    command = './api_server_one/app.py'\n",
    "    subprocess.run(command, shell=True)\n",
    "\n",
    "# Create a thread for running the script\n",
    "script_thread = threading.Thread(target=run_script)\n",
    "\n",
    "# Start the thread\n",
    "script_thread.start()\n",
    "\n",
    "time.sleep(2)\n"
   ]
  },
  {
   "cell_type": "markdown",
   "id": "055de783-6435-4498-beea-ce519b4c75e1",
   "metadata": {},
   "source": [
    "# Verify Setup is successful"
   ]
  },
  {
   "cell_type": "code",
   "execution_count": null,
   "id": "b88cb5a2-a250-4e9b-9ded-60225a2fb1e6",
   "metadata": {},
   "outputs": [],
   "source": [
    "# verify that api-server-one is running\n",
    "\n",
    "!curl http://localhost:8080/swagger.json| json_pp"
   ]
  },
  {
   "cell_type": "markdown",
   "id": "da619f44-b6fc-46e5-9a0a-3394be16d200",
   "metadata": {},
   "source": [
    "# Explore the Api Server Swagger Docs via UI (Only locally)"
   ]
  },
  {
   "cell_type": "markdown",
   "id": "04912273-b7b5-4085-99f6-f6d991c5417d",
   "metadata": {},
   "source": [
    "## Explore the Server at http://localhost:8080/ui\n",
    "\n",
    "### Users can click on each HTTP method and test the API interactively"
   ]
  },
  {
   "cell_type": "code",
   "execution_count": 3,
   "id": "8c9a2f47-4fbc-4be9-8558-6a0c21507a02",
   "metadata": {},
   "outputs": [
    {
     "data": {
      "application/javascript": [
       "window.open(\"http://localhost:8080/ui\");"
      ],
      "text/plain": [
       "<IPython.core.display.Javascript object>"
      ]
     },
     "metadata": {},
     "output_type": "display_data"
    }
   ],
   "source": [
    "from IPython.display import Javascript\n",
    "\n",
    "def window_open(url):\n",
    "    display(Javascript('window.open(\"{url}\");'.format(url=url)))\n",
    "\n",
    "url = 'http://localhost:8080/ui'\n",
    "window_open(url)"
   ]
  },
  {
   "cell_type": "markdown",
   "id": "ca55a4c2-263d-4962-a882-4f814b59d19f",
   "metadata": {},
   "source": [
    "- If successful, it should look like below"
   ]
  },
  {
   "cell_type": "code",
   "execution_count": null,
   "id": "cb428a1c-a929-4e8f-8f14-fd0d05e8bd40",
   "metadata": {},
   "outputs": [
    {
     "name": "stderr",
     "output_type": "stream",
     "text": [
      "INFO:werkzeug:127.0.0.1 - - [24/Sep/2023 15:51:15] \"\u001b[33mGET / HTTP/1.1\u001b[0m\" 404 -\n",
      "INFO:root:Creating pet 1..\n",
      "INFO:werkzeug:127.0.0.1 - - [24/Sep/2023 15:52:36] \"\u001b[35m\u001b[1mPUT /pets/1 HTTP/1.1\u001b[0m\" 201 -\n",
      "ERROR:connexion.decorators.validation:http://localhost:8080/pets/1 validation error: None is not of type 'object'\n",
      "INFO:werkzeug:127.0.0.1 - - [24/Sep/2023 15:52:37] \"\u001b[31m\u001b[1mPUT /pets/1 HTTP/1.1\u001b[0m\" 400 -\n",
      "INFO:root:Updating pet 1..\n",
      "INFO:werkzeug:127.0.0.1 - - [24/Sep/2023 15:54:03] \"PUT /pets/1 HTTP/1.1\" 200 -\n",
      "ERROR:connexion.decorators.validation:http://localhost:8080/pets/1 validation error: None is not of type 'object'\n",
      "INFO:werkzeug:127.0.0.1 - - [24/Sep/2023 15:54:05] \"\u001b[31m\u001b[1mPUT /pets/1 HTTP/1.1\u001b[0m\" 400 -\n"
     ]
    }
   ],
   "source": [
    "from IPython.display import Image\n",
    "\n",
    "Image(filename='./assets/swagger_ui.png')"
   ]
  },
  {
   "cell_type": "code",
   "execution_count": null,
   "id": "61631973-5dc1-4d07-bca3-4ba2762c69c6",
   "metadata": {},
   "outputs": [],
   "source": []
  }
 ],
 "metadata": {
  "kernelspec": {
   "display_name": "Python 3 (ipykernel)",
   "language": "python",
   "name": "python3"
  },
  "language_info": {
   "codemirror_mode": {
    "name": "ipython",
    "version": 3
   },
   "file_extension": ".py",
   "mimetype": "text/x-python",
   "name": "python",
   "nbconvert_exporter": "python",
   "pygments_lexer": "ipython3",
   "version": "3.11.5"
  }
 },
 "nbformat": 4,
 "nbformat_minor": 5
}
