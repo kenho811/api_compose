{
 "cells": [
  {
   "cell_type": "markdown",
   "id": "467e6c15-b3bf-4de9-9685-48c1946ee460",
   "metadata": {},
   "source": [
    "# Welcome to Api-Compose Tutorial"
   ]
  },
  {
   "cell_type": "markdown",
   "id": "c711ec23-b748-4160-af53-4b8a1c20d2be",
   "metadata": {},
   "source": [
    "# Local Setup"
   ]
  },
  {
   "cell_type": "code",
   "execution_count": null,
   "id": "b2ee39da-813f-4cf3-a7a4-a11b075e814f",
   "metadata": {},
   "outputs": [],
   "source": [
    "# Run the below\n",
    "\n",
    "!./start_server.sh"
   ]
  },
  {
   "cell_type": "markdown",
   "id": "02425ff0-149a-4f79-81ae-4b0a56a2f03b",
   "metadata": {},
   "source": [
    "# Binder setup\n",
    "\n",
    "- No extra configuration is required"
   ]
  },
  {
   "cell_type": "markdown",
   "id": "055de783-6435-4498-beea-ce519b4c75e1",
   "metadata": {},
   "source": [
    "# Verify Setup is successful"
   ]
  },
  {
   "cell_type": "code",
   "execution_count": 1,
   "id": "b88cb5a2-a250-4e9b-9ded-60225a2fb1e6",
   "metadata": {},
   "outputs": [
    {
     "name": "stdout",
     "output_type": "stream",
     "text": [
      "curl: (7) Failed to connect to localhost port 8080 after 0 ms: Couldn't connect to server\n"
     ]
    }
   ],
   "source": [
    "# verify that api-server-one is running\n",
    "\n",
    "!curl http://localhost:8080/pets\n",
    "\n"
   ]
  },
  {
   "cell_type": "code",
   "execution_count": null,
   "id": "cb428a1c-a929-4e8f-8f14-fd0d05e8bd40",
   "metadata": {},
   "outputs": [],
   "source": []
  }
 ],
 "metadata": {
  "kernelspec": {
   "display_name": "Python 3 (ipykernel)",
   "language": "python",
   "name": "python3"
  },
  "language_info": {
   "codemirror_mode": {
    "name": "ipython",
    "version": 3
   },
   "file_extension": ".py",
   "mimetype": "text/x-python",
   "name": "python",
   "nbconvert_exporter": "python",
   "pygments_lexer": "ipython3",
   "version": "3.11.5"
  }
 },
 "nbformat": 4,
 "nbformat_minor": 5
}
