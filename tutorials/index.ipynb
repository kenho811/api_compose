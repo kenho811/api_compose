{
 "cells": [
  {
   "cell_type": "markdown",
   "id": "467e6c15-b3bf-4de9-9685-48c1946ee460",
   "metadata": {},
   "source": [
    "# Welcome to Api-Compose Tutorial"
   ]
  },
  {
   "cell_type": "markdown",
   "id": "055de783-6435-4498-beea-ce519b4c75e1",
   "metadata": {},
   "source": [
    "# Before you start\n",
    "- Verify that api-server-one is running"
   ]
  },
  {
   "cell_type": "code",
   "execution_count": 3,
   "id": "b88cb5a2-a250-4e9b-9ded-60225a2fb1e6",
   "metadata": {},
   "outputs": [
    {
     "name": "stdout",
     "output_type": "stream",
     "text": [
      "{\n",
      "  \"detail\": \"No authorization token provided\",\n",
      "  \"status\": 401,\n",
      "  \"title\": \"Unauthorized\",\n",
      "  \"type\": \"about:blank\"\n",
      "}\n"
     ]
    }
   ],
   "source": [
    "# verify that api-server-one is running\n",
    "\n",
    "!curl http://localhost:8080/pets\n",
    "\n"
   ]
  },
  {
   "cell_type": "code",
   "execution_count": null,
   "id": "fb95975c-291b-411e-8e3e-74a3a3a513a7",
   "metadata": {},
   "outputs": [],
   "source": []
  }
 ],
 "metadata": {
  "kernelspec": {
   "display_name": "Python 3 (ipykernel)",
   "language": "python",
   "name": "python3"
  },
  "language_info": {
   "codemirror_mode": {
    "name": "ipython",
    "version": 3
   },
   "file_extension": ".py",
   "mimetype": "text/x-python",
   "name": "python",
   "nbconvert_exporter": "python",
   "pygments_lexer": "ipython3",
   "version": "3.11.5"
  }
 },
 "nbformat": 4,
 "nbformat_minor": 5
}
