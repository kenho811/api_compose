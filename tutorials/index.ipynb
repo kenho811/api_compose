{
 "cells": [
  {
   "cell_type": "markdown",
   "id": "467e6c15-b3bf-4de9-9685-48c1946ee460",
   "metadata": {},
   "source": [
    "# Welcome to Api-Compose Tutorial"
   ]
  },
  {
   "cell_type": "markdown",
   "id": "be7e97bb-ca52-4cf8-90fe-6c6b302b401c",
   "metadata": {},
   "source": [
    "# Prerequisite"
   ]
  },
  {
   "cell_type": "code",
   "execution_count": null,
   "id": "e74721e0-9d30-4d2f-8595-ecd8f770c8bd",
   "metadata": {},
   "outputs": [
    {
     "name": "stderr",
     "output_type": "stream",
     "text": [
      "INFO:root:Updating pet 1..\n",
      "INFO:werkzeug:127.0.0.1 - - [24/Sep/2023 17:13:43] \"PUT /pets/1 HTTP/1.1\" 200 -\n",
      "INFO:root:Updating pet 1..\n",
      "INFO:werkzeug:127.0.0.1 - - [24/Sep/2023 17:14:29] \"PUT /pets/1 HTTP/1.1\" 200 -\n",
      "ERROR:connexion.decorators.validation:http://localhost:8080/pets/1 validation error: None is not of type 'object'\n",
      "INFO:werkzeug:127.0.0.1 - - [24/Sep/2023 17:14:31] \"\u001b[31m\u001b[1mPUT /pets/1 HTTP/1.1\u001b[0m\" 400 -\n",
      "INFO:root:Updating pet 1..\n",
      "INFO:werkzeug:127.0.0.1 - - [24/Sep/2023 17:14:59] \"PUT /pets/1 HTTP/1.1\" 200 -\n",
      "ERROR:connexion.decorators.validation:http://localhost:8080/pets/1 validation error: None is not of type 'object'\n",
      "INFO:werkzeug:127.0.0.1 - - [24/Sep/2023 17:15:00] \"\u001b[31m\u001b[1mPUT /pets/1 HTTP/1.1\u001b[0m\" 400 -\n",
      "INFO:root:Updating pet 1..\n",
      "INFO:werkzeug:127.0.0.1 - - [24/Sep/2023 17:16:01] \"PUT /pets/1 HTTP/1.1\" 200 -\n",
      "INFO:root:Updating pet 1..\n",
      "INFO:werkzeug:127.0.0.1 - - [24/Sep/2023 17:17:08] \"PUT /pets/1 HTTP/1.1\" 200 -\n",
      "INFO:root:Updating pet 1..\n",
      "INFO:werkzeug:127.0.0.1 - - [24/Sep/2023 17:17:30] \"PUT /pets/1 HTTP/1.1\" 200 -\n",
      "INFO:root:Updating pet 1..\n",
      "INFO:werkzeug:127.0.0.1 - - [24/Sep/2023 17:17:31] \"PUT /pets/1 HTTP/1.1\" 200 -\n"
     ]
    }
   ],
   "source": [
    "## Check api-compose version\n",
    "\n",
    "!pip list|grep api-compose"
   ]
  },
  {
   "cell_type": "markdown",
   "id": "c711ec23-b748-4160-af53-4b8a1c20d2be",
   "metadata": {},
   "source": [
    "# Setup Guide\n",
    "\n",
    "- This tutorial series require the use of sample backend servers\n",
    "\n",
    "    - api_server_one"
   ]
  },
  {
   "cell_type": "code",
   "execution_count": 1,
   "id": "b2ee39da-813f-4cf3-a7a4-a11b075e814f",
   "metadata": {},
   "outputs": [
    {
     "name": "stdout",
     "output_type": "stream",
     "text": [
      " * Serving Flask app 'app'\n",
      " * Debug mode: off\n"
     ]
    },
    {
     "name": "stderr",
     "output_type": "stream",
     "text": [
      "INFO:werkzeug:\u001b[31m\u001b[1mWARNING: This is a development server. Do not use it in a production deployment. Use a production WSGI server instead.\u001b[0m\n",
      " * Running on all addresses (0.0.0.0)\n",
      " * Running on http://127.0.0.1:8080\n",
      " * Running on http://192.168.1.104:8080\n",
      "INFO:werkzeug:\u001b[33mPress CTRL+C to quit\u001b[0m\n"
     ]
    }
   ],
   "source": [
    "import subprocess\n",
    "import threading\n",
    "import time\n",
    "\n",
    "def run_script():\n",
    "    command = './api_server_one/app.py'\n",
    "    subprocess.run(command, shell=True)\n",
    "\n",
    "# Create a thread for running the script\n",
    "script_thread = threading.Thread(target=run_script)\n",
    "\n",
    "# Start the thread\n",
    "script_thread.start()\n",
    "\n",
    "time.sleep(2)\n"
   ]
  },
  {
   "cell_type": "markdown",
   "id": "055de783-6435-4498-beea-ce519b4c75e1",
   "metadata": {},
   "source": [
    "# Verify Setup is successful"
   ]
  },
  {
   "cell_type": "code",
   "execution_count": 2,
   "id": "b88cb5a2-a250-4e9b-9ded-60225a2fb1e6",
   "metadata": {},
   "outputs": [
    {
     "name": "stdout",
     "output_type": "stream",
     "text": [
      "  % Total    % Received % Xferd  Average Speed   Time    Time     Time  Current\n",
      "                                 Dload  Upload   Total   Spent    Left  Speed\n",
      "100  2364  100  2364    0     0   121k      0 --:--:-- --:--:-- --:--:--  128k\n",
      "{\n",
      "   \"basePath\" : \"\",\n",
      "   \"consumes\" : [\n",
      "      \"application/json\"\n",
      "   ],\n",
      "   \"definitions\" : {\n",
      "      \"Pet\" : {\n",
      "         \"properties\" : {\n",
      "            \"animal_type\" : {\n",
      "               \"description\" : \"Kind of animal\",\n",
      "               \"example\" : \"cat\",\n",
      "               \"minLength\" : 1,\n",
      "               \"type\" : \"string\"\n",
      "            },\n",
      "            \"created\" : {\n",
      "               \"description\" : \"Creation time\",\n",
      "               \"example\" : \"2015-07-07T15:49:51.230+02:00\",\n",
      "               \"format\" : \"date-time\",\n",
      "               \"readOnly\" : true,\n",
      "               \"type\" : \"string\"\n",
      "            },\n",
      "            \"id\" : {\n",
      "               \"description\" : \"Unique identifier\",\n",
      "               \"example\" : \"123\",\n",
      "               \"readOnly\" : true,\n",
      "               \"type\" : \"string\"\n",
      "            },\n",
      "            \"name\" : {\n",
      "               \"description\" : \"Pet's name\",\n",
      "               \"example\" : \"Susie\",\n",
      "               \"maxLength\" : 100,\n",
      "               \"minLength\" : 1,\n",
      "               \"type\" : \"string\"\n",
      "            },\n",
      "            \"tags\" : {\n",
      "               \"description\" : \"Custom tags\",\n",
      "               \"type\" : \"object\"\n",
      "            }\n",
      "         },\n",
      "         \"required\" : [\n",
      "            \"name\",\n",
      "            \"animal_type\"\n",
      "         ],\n",
      "         \"type\" : \"object\"\n",
      "      }\n",
      "   },\n",
      "   \"info\" : {\n",
      "      \"description\" : \"Simple example API to store and retrieve pets\",\n",
      "      \"title\" : \"Pet Shop Example API\",\n",
      "      \"version\" : \"0.1\"\n",
      "   },\n",
      "   \"parameters\" : {\n",
      "      \"pet_id\" : {\n",
      "         \"description\" : \"Pet's Unique identifier\",\n",
      "         \"in\" : \"path\",\n",
      "         \"name\" : \"pet_id\",\n",
      "         \"pattern\" : \"^[a-zA-Z0-9-]+$\",\n",
      "         \"required\" : true,\n",
      "         \"type\" : \"string\"\n",
      "      }\n",
      "   },\n",
      "   \"paths\" : {\n",
      "      \"/pets\" : {\n",
      "         \"get\" : {\n",
      "            \"operationId\" : \"app.get_pets\",\n",
      "            \"parameters\" : [\n",
      "               {\n",
      "                  \"in\" : \"query\",\n",
      "                  \"name\" : \"animal_type\",\n",
      "                  \"pattern\" : \"^[a-zA-Z0-9]*$\",\n",
      "                  \"type\" : \"string\"\n",
      "               },\n",
      "               {\n",
      "                  \"default\" : 100,\n",
      "                  \"format\" : \"int32\",\n",
      "                  \"in\" : \"query\",\n",
      "                  \"minimum\" : 0,\n",
      "                  \"name\" : \"limit\",\n",
      "                  \"type\" : \"integer\"\n",
      "               }\n",
      "            ],\n",
      "            \"responses\" : {\n",
      "               \"200\" : {\n",
      "                  \"description\" : \"Return pets\",\n",
      "                  \"schema\" : {\n",
      "                     \"properties\" : {\n",
      "                        \"pets\" : {\n",
      "                           \"items\" : {\n",
      "                              \"$ref\" : \"#/definitions/Pet\"\n",
      "                           },\n",
      "                           \"type\" : \"array\"\n",
      "                        }\n",
      "                     },\n",
      "                     \"type\" : \"object\"\n",
      "                  }\n",
      "               }\n",
      "            },\n",
      "            \"summary\" : \"Get all pets\",\n",
      "            \"tags\" : [\n",
      "               \"Pets\"\n",
      "            ]\n",
      "         }\n",
      "      },\n",
      "      \"/pets/{pet_id}\" : {\n",
      "         \"delete\" : {\n",
      "            \"operationId\" : \"app.delete_pet\",\n",
      "            \"parameters\" : [\n",
      "               {\n",
      "                  \"$ref\" : \"#/parameters/pet_id\"\n",
      "               }\n",
      "            ],\n",
      "            \"responses\" : {\n",
      "               \"204\" : {\n",
      "                  \"description\" : \"Pet was deleted\"\n",
      "               },\n",
      "               \"404\" : {\n",
      "                  \"description\" : \"Pet does not exist\"\n",
      "               }\n",
      "            },\n",
      "            \"summary\" : \"Remove a pet\",\n",
      "            \"tags\" : [\n",
      "               \"Pets\"\n",
      "            ]\n",
      "         },\n",
      "         \"get\" : {\n",
      "            \"operationId\" : \"app.get_pet\",\n",
      "            \"parameters\" : [\n",
      "               {\n",
      "                  \"$ref\" : \"#/parameters/pet_id\"\n",
      "               }\n",
      "            ],\n",
      "            \"responses\" : {\n",
      "               \"200\" : {\n",
      "                  \"description\" : \"Return pet\",\n",
      "                  \"schema\" : {\n",
      "                     \"$ref\" : \"#/definitions/Pet\"\n",
      "                  }\n",
      "               },\n",
      "               \"404\" : {\n",
      "                  \"description\" : \"Pet does not exist\"\n",
      "               }\n",
      "            },\n",
      "            \"summary\" : \"Get a single pet\",\n",
      "            \"tags\" : [\n",
      "               \"Pets\"\n",
      "            ]\n",
      "         },\n",
      "         \"put\" : {\n",
      "            \"operationId\" : \"app.put_pet\",\n",
      "            \"parameters\" : [\n",
      "               {\n",
      "                  \"$ref\" : \"#/parameters/pet_id\"\n",
      "               },\n",
      "               {\n",
      "                  \"in\" : \"body\",\n",
      "                  \"name\" : \"pet\",\n",
      "                  \"schema\" : {\n",
      "                     \"$ref\" : \"#/definitions/Pet\"\n",
      "                  }\n",
      "               }\n",
      "            ],\n",
      "            \"responses\" : {\n",
      "               \"200\" : {\n",
      "                  \"description\" : \"Pet updated\"\n",
      "               },\n",
      "               \"201\" : {\n",
      "                  \"description\" : \"New pet created\"\n",
      "               }\n",
      "            },\n",
      "            \"summary\" : \"Create or update a pet\",\n",
      "            \"tags\" : [\n",
      "               \"Pets\"\n",
      "            ]\n",
      "         }\n",
      "      }\n",
      "   },\n",
      "   \"produces\" : [\n",
      "      \"application/json\"\n",
      "   ],\n",
      "   \"security\" : [],\n",
      "   \"securityDefinitions\" : {\n",
      "      \"oauth2\" : {\n",
      "         \"authorizationUrl\" : \"https://example.com/oauth2/dialog\",\n",
      "         \"flow\" : \"implicit\",\n",
      "         \"scopes\" : {\n",
      "            \"uid\" : \"Unique identifier of the user accessing the service.\"\n",
      "         },\n",
      "         \"type\" : \"oauth2\"\n",
      "      }\n",
      "   },\n",
      "   \"swagger\" : \"2.0\"\n",
      "}\n"
     ]
    },
    {
     "name": "stderr",
     "output_type": "stream",
     "text": [
      "INFO:werkzeug:127.0.0.1 - - [24/Sep/2023 17:06:21] \"GET /swagger.json HTTP/1.1\" 200 -\n"
     ]
    }
   ],
   "source": [
    "# verify that api-server-one is running\n",
    "\n",
    "!curl http://localhost:8080/swagger.json| json_pp"
   ]
  },
  {
   "cell_type": "markdown",
   "id": "da619f44-b6fc-46e5-9a0a-3394be16d200",
   "metadata": {},
   "source": [
    "# Explore the Api Server Swagger Docs via UI "
   ]
  },
  {
   "cell_type": "markdown",
   "id": "04912273-b7b5-4085-99f6-f6d991c5417d",
   "metadata": {},
   "source": [
    "## Explore the Server at http://localhost:8080/ui/\n",
    "\n",
    "### Users can click on each HTTP method and test the API interactively"
   ]
  },
  {
   "cell_type": "code",
   "execution_count": 3,
   "id": "8c9a2f47-4fbc-4be9-8558-6a0c21507a02",
   "metadata": {},
   "outputs": [
    {
     "data": {
      "application/javascript": [
       "\n",
       "var currentUrl = window.location.href;\n",
       "currentUrl += \"/ui/\";\n",
       "currentUrl;\n"
      ],
      "text/plain": [
       "<IPython.core.display.Javascript object>"
      ]
     },
     "metadata": {},
     "output_type": "display_data"
    },
    {
     "name": "stdout",
     "output_type": "stream",
     "text": [
      "None\n"
     ]
    }
   ],
   "source": [
    "from IPython.display import Javascript\n",
    "\n",
    "def window_open(url):\n",
    "    display(Javascript('window.open(\"{url}\");'.format(url=url)))\n",
    "\n",
    "javascript_code = '''\n",
    "var currentUrl = window.location.href;\n",
    "currentUrl += \"/ui/\";\n",
    "currentUrl;\n",
    "'''\n",
    "\n",
    "display(Javascript(javascript_code))\n",
    "\n",
    "#window_open(url)"
   ]
  },
  {
   "cell_type": "markdown",
   "id": "ca55a4c2-263d-4962-a882-4f814b59d19f",
   "metadata": {},
   "source": [
    "- If successful, it should look like below"
   ]
  },
  {
   "cell_type": "code",
   "execution_count": 4,
   "id": "cb428a1c-a929-4e8f-8f14-fd0d05e8bd40",
   "metadata": {},
   "outputs": [
    {
     "name": "stderr",
     "output_type": "stream",
     "text": [
      "INFO:werkzeug:127.0.0.1 - - [24/Sep/2023 17:06:22] \"GET /ui/ HTTP/1.1\" 200 -\n",
      "INFO:werkzeug:127.0.0.1 - - [24/Sep/2023 17:06:22] \"GET /swagger.json HTTP/1.1\" 200 -\n"
     ]
    },
    {
     "data": {
      "image/png": "[encoded data removed]",
      "text/plain": [
       "<IPython.core.display.Image object>"
      ]
     },
     "execution_count": 4,
     "metadata": {},
     "output_type": "execute_result"
    },
    {
     "name": "stderr",
     "output_type": "stream",
     "text": [
      "INFO:root:Creating pet 1..\n",
      "INFO:werkzeug:127.0.0.1 - - [24/Sep/2023 17:07:12] \"\u001b[35m\u001b[1mPUT /pets/1 HTTP/1.1\u001b[0m\" 201 -\n",
      "ERROR:connexion.decorators.validation:http://localhost:8080/pets/1 validation error: None is not of type 'object'\n",
      "INFO:werkzeug:127.0.0.1 - - [24/Sep/2023 17:07:14] \"\u001b[31m\u001b[1mPUT /pets/1 HTTP/1.1\u001b[0m\" 400 -\n"
     ]
    }
   ],
   "source": [
    "from IPython.display import Image\n",
    "\n",
    "Image(filename='./assets/swagger_ui.png')"
   ]
  },
  {
   "cell_type": "code",
   "execution_count": null,
   "id": "61631973-5dc1-4d07-bca3-4ba2762c69c6",
   "metadata": {},
   "outputs": [],
   "source": []
  }
 ],
 "metadata": {
  "kernelspec": {
   "display_name": "Python 3 (ipykernel)",
   "language": "python",
   "name": "python3"
  },
  "language_info": {
   "codemirror_mode": {
    "name": "ipython",
    "version": 3
   },
   "file_extension": ".py",
   "mimetype": "text/x-python",
   "name": "python",
   "nbconvert_exporter": "python",
   "pygments_lexer": "ipython3",
   "version": "3.11.5"
  }
 },
 "nbformat": 4,
 "nbformat_minor": 5
}
