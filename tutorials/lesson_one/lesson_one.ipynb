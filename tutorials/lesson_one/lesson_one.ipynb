{
 "cells": [
  {
   "cell_type": "markdown",
   "id": "d7af669b-0a61-4ec3-afb4-de1e25a7dbc6",
   "metadata": {},
   "source": [
    "# In this lesson, we will\n",
    "\n",
    "- Set up the API Server One\n",
    "- Build a scaffold of our project\n",
    "- Explore the APIs of Server One"
   ]
  },
  {
   "cell_type": "markdown",
   "id": "62a41171-eba7-4674-9635-63383e80fd91",
   "metadata": {},
   "source": [
    "## Start APi Server One"
   ]
  },
  {
   "cell_type": "markdown",
   "id": "0b7b2edc-147e-4695-ba0e-22b7f1002012",
   "metadata": {},
   "source": [
    "### We will run the script ./start_api_server_one.sh, which will pull from the kenho811/api_server_one repository and starts the API Server for the demonstration"
   ]
  },
  {
   "cell_type": "code",
   "execution_count": 3,
   "id": "0faca52e-48a0-4317-ab37-240d8de1e552",
   "metadata": {},
   "outputs": [
    {
     "name": "stdout",
     "output_type": "stream",
     "text": [
      "Repository exists. Pulling latest changes...\n",
      "Already up to date.\n",
      "An image named 'api-server-one' already exists. Not doing anything.\n",
      "api-server-one\n",
      "85c66df79b018e1ddfdd9f4fc247f7edaa22bbf9c3e2fcce4dc5fbca158bb4ef\n",
      "please check http://localhost:8080/ui\n"
     ]
    }
   ],
   "source": [
    "# Run the server\n",
    "\n",
    "!./start_api_server_one.sh"
   ]
  },
  {
   "cell_type": "markdown",
   "id": "13755239-7fce-4451-9054-16e9273b84b7",
   "metadata": {},
   "source": [
    "## Scaffold a project"
   ]
  },
  {
   "cell_type": "markdown",
   "id": "4a952cbe-675f-4507-8aeb-71b0c3060d69",
   "metadata": {},
   "source": [
    "### We will call our project *api_client_one*, as this project is specifically for the api-server-one we started in the previous step."
   ]
  },
  {
   "cell_type": "code",
   "execution_count": 7,
   "id": "9389e2b6-1631-43d4-a8d7-6dd3c2683e02",
   "metadata": {},
   "outputs": [
    {
     "name": "stdout",
     "output_type": "stream",
     "text": [
      "Missing yaml setting at: config.yaml\n",
      "/home/ken/PycharmProjects/api_compose/venv/lib/python3.10/site-packages/pydantic/_internal/_utils.py:319: FutureWarning: The behavior of this method will change in future versions. Use specific 'len(elem)' or 'elem is not None' test instead.\n",
      "  if not obj and obj_type in BUILTIN_COLLECTIONS:\n",
      "[EventType.Discovery] : INFO - Failed to Import Custom Functions from folder functions does not exist\n",
      "[EventType.Discovery] : ERROR - Failed to find manifest folder at manifests\n",
      "Project api_client_one is created!\n"
     ]
    }
   ],
   "source": [
    "# Run the server\n",
    "\n",
    "!cd ./lesson_one && acp scaffold api_client_one"
   ]
  },
  {
   "cell_type": "markdown",
   "id": "040594c1-8cb9-4120-b215-bf119c2da657",
   "metadata": {},
   "source": [
    "# Explore the Api Server"
   ]
  },
  {
   "cell_type": "code",
   "execution_count": null,
   "id": "2c9d8a4e-a0f2-47cf-a6f1-39a92ea044dd",
   "metadata": {},
   "outputs": [],
   "source": [
    "We can explore the CRUD function of the Server either"
   ]
  },
  {
   "cell_type": "code",
   "execution_count": 8,
   "id": "ab4e13d1-c108-47cd-b913-280aecbee079",
   "metadata": {},
   "outputs": [],
   "source": [
    "%load ./lesson_one/api_client_one/manifests/actions/json_http_action.yaml"
   ]
  },
  {
   "cell_type": "code",
   "execution_count": null,
   "id": "88c00432-d77f-413b-94d6-c61e715f1aeb",
   "metadata": {},
   "outputs": [],
   "source": []
  }
 ],
 "metadata": {
  "kernelspec": {
   "display_name": "Python 3 (ipykernel)",
   "language": "python",
   "name": "python3"
  },
  "language_info": {
   "codemirror_mode": {
    "name": "ipython",
    "version": 3
   },
   "file_extension": ".py",
   "mimetype": "text/x-python",
   "name": "python",
   "nbconvert_exporter": "python",
   "pygments_lexer": "ipython3",
   "version": "3.10.9"
  }
 },
 "nbformat": 4,
 "nbformat_minor": 5
}
