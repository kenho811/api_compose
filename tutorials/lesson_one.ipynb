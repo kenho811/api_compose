{
 "cells": [
  {
   "cell_type": "markdown",
   "id": "d7af669b-0a61-4ec3-afb4-de1e25a7dbc6",
   "metadata": {},
   "source": [
    "# In this lesson, we will\n",
    "\n",
    "- Build a scaffold of our project (in the /tmp folder)"
   ]
  },
  {
   "cell_type": "markdown",
   "id": "13755239-7fce-4451-9054-16e9273b84b7",
   "metadata": {},
   "source": [
    "## Scaffold a project"
   ]
  },
  {
   "cell_type": "markdown",
   "id": "4a952cbe-675f-4507-8aeb-71b0c3060d69",
   "metadata": {},
   "source": [
    "### We will call our project *api_client_one*, as this project is specifically for the api-server-one we started in the previous step."
   ]
  },
  {
   "cell_type": "code",
   "execution_count": null,
   "id": "9389e2b6-1631-43d4-a8d7-6dd3c2683e02",
   "metadata": {},
   "outputs": [],
   "source": [
    "# Run the server\n",
    "\n",
    "!acp scaffold ./api_client_one"
   ]
  },
  {
   "cell_type": "code",
   "execution_count": null,
   "id": "51ea7560-7b24-437a-b58b-789424e2bbbb",
   "metadata": {},
   "outputs": [],
   "source": [
    "# List the files in the folder\n",
    "\n",
    "!ls -R ./api_client_one"
   ]
  }
 ],
 "metadata": {
  "kernelspec": {
   "display_name": "Python 3 (ipykernel)",
   "language": "python",
   "name": "python3"
  },
  "language_info": {
   "codemirror_mode": {
    "name": "ipython",
    "version": 3
   },
   "file_extension": ".py",
   "mimetype": "text/x-python",
   "name": "python",
   "nbconvert_exporter": "python",
   "pygments_lexer": "ipython3",
   "version": "3.11.5"
  }
 },
 "nbformat": 4,
 "nbformat_minor": 5
}
